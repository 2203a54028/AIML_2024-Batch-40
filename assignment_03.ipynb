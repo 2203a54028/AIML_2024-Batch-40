{
  "nbformat": 4,
  "nbformat_minor": 0,
  "metadata": {
    "colab": {
      "provenance": []
    },
    "kernelspec": {
      "name": "python3",
      "display_name": "Python 3"
    },
    "language_info": {
      "name": "python"
    }
  },
  "cells": [
    {
      "cell_type": "code",
      "execution_count": 1,
      "metadata": {
        "colab": {
          "base_uri": "https://localhost:8080/"
        },
        "id": "P280GX0K_j0T",
        "outputId": "a932d5e6-6221-481e-8c38-294c54f4de08"
      },
      "outputs": [
        {
          "output_type": "stream",
          "name": "stdout",
          "text": [
            "25\n"
          ]
        }
      ],
      "source": [
        "def max_min(node, depth, maximizing_player):\n",
        "    if depth == 0 or is_leaf_node(node):\n",
        "        return evaluate(node)\n",
        "\n",
        "    if maximizing_player:\n",
        "        max_eval = float('-inf')\n",
        "        for child in get_children(node):\n",
        "            eval = max_min(child, depth - 1, False)\n",
        "            max_eval = max(max_eval, eval)\n",
        "        return max_eval\n",
        "    else:\n",
        "        min_eval = float('inf')\n",
        "        for child in get_children(node):\n",
        "            eval = max_min(child, depth - 1, True)\n",
        "            min_eval = min(min_eval, eval)\n",
        "        return min_eval\n",
        "\n",
        "# Example functions (you need to define these according to your scenario)\n",
        "def is_leaf_node(node):\n",
        "    # Check if the node is a leaf node (has no children)\n",
        "    return not node['children']\n",
        "\n",
        "def evaluate(node):\n",
        "    # Return the value associated with the leaf node\n",
        "    return node['value']\n",
        "\n",
        "def get_children(node):\n",
        "    # Return a list of children nodes\n",
        "    return node['children']\n",
        "\n",
        "# Example scenario\n",
        "node_b = {'value': None, 'children': [{'value': 12, 'children': []}, {'value': 10, 'children': []}]}\n",
        "node_c = {'value': None, 'children': [{'value': 36, 'children': []}, {'value': 25, 'children': []}]}\n",
        "node_a = {'value': None, 'children': [node_b, node_c]}\n",
        "\n",
        "result = max_min(node_a, depth=3, maximizing_player=True)\n",
        "print(result)"
      ]
    }
  ]
}